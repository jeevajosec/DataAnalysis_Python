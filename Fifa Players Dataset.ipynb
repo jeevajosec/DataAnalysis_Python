{
 "cells": [
  {
   "cell_type": "code",
   "execution_count": 24,
   "id": "fa4e79e3-b88a-4068-97ed-93d434332aa1",
   "metadata": {},
   "outputs": [],
   "source": [
    "import pandas as pd\n",
    "import numpy as np\n",
    "import matplotlib.pyplot as plt\n",
    "import seaborn as sns"
   ]
  },
  {
   "cell_type": "code",
   "execution_count": 25,
   "id": "b5847e1b-f0ae-4ba2-937e-7fccd80fb8b2",
   "metadata": {},
   "outputs": [
    {
     "data": {
      "text/html": [
       "<div>\n",
       "<style scoped>\n",
       "    .dataframe tbody tr th:only-of-type {\n",
       "        vertical-align: middle;\n",
       "    }\n",
       "\n",
       "    .dataframe tbody tr th {\n",
       "        vertical-align: top;\n",
       "    }\n",
       "\n",
       "    .dataframe thead th {\n",
       "        text-align: right;\n",
       "    }\n",
       "</style>\n",
       "<table border=\"1\" class=\"dataframe\">\n",
       "  <thead>\n",
       "    <tr style=\"text-align: right;\">\n",
       "      <th></th>\n",
       "      <th>Unnamed: 0</th>\n",
       "      <th>ID</th>\n",
       "      <th>Name</th>\n",
       "      <th>Age</th>\n",
       "      <th>Photo</th>\n",
       "      <th>Nationality</th>\n",
       "      <th>Flag</th>\n",
       "      <th>Overall</th>\n",
       "      <th>Potential</th>\n",
       "      <th>Club</th>\n",
       "      <th>...</th>\n",
       "      <th>Composure</th>\n",
       "      <th>Marking</th>\n",
       "      <th>StandingTackle</th>\n",
       "      <th>SlidingTackle</th>\n",
       "      <th>GKDiving</th>\n",
       "      <th>GKHandling</th>\n",
       "      <th>GKKicking</th>\n",
       "      <th>GKPositioning</th>\n",
       "      <th>GKReflexes</th>\n",
       "      <th>Release Clause</th>\n",
       "    </tr>\n",
       "  </thead>\n",
       "  <tbody>\n",
       "    <tr>\n",
       "      <th>0</th>\n",
       "      <td>0</td>\n",
       "      <td>158023</td>\n",
       "      <td>L. Messi</td>\n",
       "      <td>31</td>\n",
       "      <td>https://cdn.sofifa.org/players/4/19/158023.png</td>\n",
       "      <td>Argentina</td>\n",
       "      <td>https://cdn.sofifa.org/flags/52.png</td>\n",
       "      <td>94</td>\n",
       "      <td>94</td>\n",
       "      <td>FC Barcelona</td>\n",
       "      <td>...</td>\n",
       "      <td>96.0</td>\n",
       "      <td>33.0</td>\n",
       "      <td>28.0</td>\n",
       "      <td>26.0</td>\n",
       "      <td>6.0</td>\n",
       "      <td>11.0</td>\n",
       "      <td>15.0</td>\n",
       "      <td>14.0</td>\n",
       "      <td>8.0</td>\n",
       "      <td>€226.5M</td>\n",
       "    </tr>\n",
       "    <tr>\n",
       "      <th>1</th>\n",
       "      <td>1</td>\n",
       "      <td>20801</td>\n",
       "      <td>Cristiano Ronaldo</td>\n",
       "      <td>33</td>\n",
       "      <td>https://cdn.sofifa.org/players/4/19/20801.png</td>\n",
       "      <td>Portugal</td>\n",
       "      <td>https://cdn.sofifa.org/flags/38.png</td>\n",
       "      <td>94</td>\n",
       "      <td>94</td>\n",
       "      <td>Juventus</td>\n",
       "      <td>...</td>\n",
       "      <td>95.0</td>\n",
       "      <td>28.0</td>\n",
       "      <td>31.0</td>\n",
       "      <td>23.0</td>\n",
       "      <td>7.0</td>\n",
       "      <td>11.0</td>\n",
       "      <td>15.0</td>\n",
       "      <td>14.0</td>\n",
       "      <td>11.0</td>\n",
       "      <td>€127.1M</td>\n",
       "    </tr>\n",
       "    <tr>\n",
       "      <th>2</th>\n",
       "      <td>2</td>\n",
       "      <td>190871</td>\n",
       "      <td>Neymar Jr</td>\n",
       "      <td>26</td>\n",
       "      <td>https://cdn.sofifa.org/players/4/19/190871.png</td>\n",
       "      <td>Brazil</td>\n",
       "      <td>https://cdn.sofifa.org/flags/54.png</td>\n",
       "      <td>92</td>\n",
       "      <td>93</td>\n",
       "      <td>Paris Saint-Germain</td>\n",
       "      <td>...</td>\n",
       "      <td>94.0</td>\n",
       "      <td>27.0</td>\n",
       "      <td>24.0</td>\n",
       "      <td>33.0</td>\n",
       "      <td>9.0</td>\n",
       "      <td>9.0</td>\n",
       "      <td>15.0</td>\n",
       "      <td>15.0</td>\n",
       "      <td>11.0</td>\n",
       "      <td>€228.1M</td>\n",
       "    </tr>\n",
       "    <tr>\n",
       "      <th>3</th>\n",
       "      <td>3</td>\n",
       "      <td>193080</td>\n",
       "      <td>De Gea</td>\n",
       "      <td>27</td>\n",
       "      <td>https://cdn.sofifa.org/players/4/19/193080.png</td>\n",
       "      <td>Spain</td>\n",
       "      <td>https://cdn.sofifa.org/flags/45.png</td>\n",
       "      <td>91</td>\n",
       "      <td>93</td>\n",
       "      <td>Manchester United</td>\n",
       "      <td>...</td>\n",
       "      <td>68.0</td>\n",
       "      <td>15.0</td>\n",
       "      <td>21.0</td>\n",
       "      <td>13.0</td>\n",
       "      <td>90.0</td>\n",
       "      <td>85.0</td>\n",
       "      <td>87.0</td>\n",
       "      <td>88.0</td>\n",
       "      <td>94.0</td>\n",
       "      <td>€138.6M</td>\n",
       "    </tr>\n",
       "    <tr>\n",
       "      <th>4</th>\n",
       "      <td>4</td>\n",
       "      <td>192985</td>\n",
       "      <td>K. De Bruyne</td>\n",
       "      <td>27</td>\n",
       "      <td>https://cdn.sofifa.org/players/4/19/192985.png</td>\n",
       "      <td>Belgium</td>\n",
       "      <td>https://cdn.sofifa.org/flags/7.png</td>\n",
       "      <td>91</td>\n",
       "      <td>92</td>\n",
       "      <td>Manchester City</td>\n",
       "      <td>...</td>\n",
       "      <td>88.0</td>\n",
       "      <td>68.0</td>\n",
       "      <td>58.0</td>\n",
       "      <td>51.0</td>\n",
       "      <td>15.0</td>\n",
       "      <td>13.0</td>\n",
       "      <td>5.0</td>\n",
       "      <td>10.0</td>\n",
       "      <td>13.0</td>\n",
       "      <td>€196.4M</td>\n",
       "    </tr>\n",
       "  </tbody>\n",
       "</table>\n",
       "<p>5 rows × 89 columns</p>\n",
       "</div>"
      ],
      "text/plain": [
       "   Unnamed: 0      ID               Name  Age  \\\n",
       "0           0  158023           L. Messi   31   \n",
       "1           1   20801  Cristiano Ronaldo   33   \n",
       "2           2  190871          Neymar Jr   26   \n",
       "3           3  193080             De Gea   27   \n",
       "4           4  192985       K. De Bruyne   27   \n",
       "\n",
       "                                            Photo Nationality  \\\n",
       "0  https://cdn.sofifa.org/players/4/19/158023.png   Argentina   \n",
       "1   https://cdn.sofifa.org/players/4/19/20801.png    Portugal   \n",
       "2  https://cdn.sofifa.org/players/4/19/190871.png      Brazil   \n",
       "3  https://cdn.sofifa.org/players/4/19/193080.png       Spain   \n",
       "4  https://cdn.sofifa.org/players/4/19/192985.png     Belgium   \n",
       "\n",
       "                                  Flag  Overall  Potential  \\\n",
       "0  https://cdn.sofifa.org/flags/52.png       94         94   \n",
       "1  https://cdn.sofifa.org/flags/38.png       94         94   \n",
       "2  https://cdn.sofifa.org/flags/54.png       92         93   \n",
       "3  https://cdn.sofifa.org/flags/45.png       91         93   \n",
       "4   https://cdn.sofifa.org/flags/7.png       91         92   \n",
       "\n",
       "                  Club  ... Composure Marking StandingTackle  SlidingTackle  \\\n",
       "0         FC Barcelona  ...      96.0    33.0           28.0           26.0   \n",
       "1             Juventus  ...      95.0    28.0           31.0           23.0   \n",
       "2  Paris Saint-Germain  ...      94.0    27.0           24.0           33.0   \n",
       "3    Manchester United  ...      68.0    15.0           21.0           13.0   \n",
       "4      Manchester City  ...      88.0    68.0           58.0           51.0   \n",
       "\n",
       "  GKDiving  GKHandling  GKKicking  GKPositioning GKReflexes Release Clause  \n",
       "0      6.0        11.0       15.0           14.0        8.0        €226.5M  \n",
       "1      7.0        11.0       15.0           14.0       11.0        €127.1M  \n",
       "2      9.0         9.0       15.0           15.0       11.0        €228.1M  \n",
       "3     90.0        85.0       87.0           88.0       94.0        €138.6M  \n",
       "4     15.0        13.0        5.0           10.0       13.0        €196.4M  \n",
       "\n",
       "[5 rows x 89 columns]"
      ]
     },
     "execution_count": 25,
     "metadata": {},
     "output_type": "execute_result"
    }
   ],
   "source": [
    "df=pd.read_csv('fifa_data.csv')\n",
    "df.head(5)"
   ]
  },
  {
   "cell_type": "code",
   "execution_count": 26,
   "id": "82844e34-0393-411d-a2ae-5b6e1832d555",
   "metadata": {},
   "outputs": [
    {
     "name": "stdout",
     "output_type": "stream",
     "text": [
      "<class 'pandas.core.frame.DataFrame'>\n",
      "RangeIndex: 18207 entries, 0 to 18206\n",
      "Data columns (total 89 columns):\n",
      " #   Column                    Non-Null Count  Dtype  \n",
      "---  ------                    --------------  -----  \n",
      " 0   Unnamed: 0                18207 non-null  int64  \n",
      " 1   ID                        18207 non-null  int64  \n",
      " 2   Name                      18207 non-null  object \n",
      " 3   Age                       18207 non-null  int64  \n",
      " 4   Photo                     18207 non-null  object \n",
      " 5   Nationality               18207 non-null  object \n",
      " 6   Flag                      18207 non-null  object \n",
      " 7   Overall                   18207 non-null  int64  \n",
      " 8   Potential                 18207 non-null  int64  \n",
      " 9   Club                      17966 non-null  object \n",
      " 10  Club Logo                 18207 non-null  object \n",
      " 11  Value                     18207 non-null  object \n",
      " 12  Wage                      18207 non-null  object \n",
      " 13  Special                   18207 non-null  int64  \n",
      " 14  Preferred Foot            18159 non-null  object \n",
      " 15  International Reputation  18159 non-null  float64\n",
      " 16  Weak Foot                 18159 non-null  float64\n",
      " 17  Skill Moves               18159 non-null  float64\n",
      " 18  Work Rate                 18159 non-null  object \n",
      " 19  Body Type                 18159 non-null  object \n",
      " 20  Real Face                 18159 non-null  object \n",
      " 21  Position                  18147 non-null  object \n",
      " 22  Jersey Number             18147 non-null  float64\n",
      " 23  Joined                    16654 non-null  object \n",
      " 24  Loaned From               1264 non-null   object \n",
      " 25  Contract Valid Until      17918 non-null  object \n",
      " 26  Height                    18159 non-null  object \n",
      " 27  Weight                    18159 non-null  object \n",
      " 28  LS                        16122 non-null  object \n",
      " 29  ST                        16122 non-null  object \n",
      " 30  RS                        16122 non-null  object \n",
      " 31  LW                        16122 non-null  object \n",
      " 32  LF                        16122 non-null  object \n",
      " 33  CF                        16122 non-null  object \n",
      " 34  RF                        16122 non-null  object \n",
      " 35  RW                        16122 non-null  object \n",
      " 36  LAM                       16122 non-null  object \n",
      " 37  CAM                       16122 non-null  object \n",
      " 38  RAM                       16122 non-null  object \n",
      " 39  LM                        16122 non-null  object \n",
      " 40  LCM                       16122 non-null  object \n",
      " 41  CM                        16122 non-null  object \n",
      " 42  RCM                       16122 non-null  object \n",
      " 43  RM                        16122 non-null  object \n",
      " 44  LWB                       16122 non-null  object \n",
      " 45  LDM                       16122 non-null  object \n",
      " 46  CDM                       16122 non-null  object \n",
      " 47  RDM                       16122 non-null  object \n",
      " 48  RWB                       16122 non-null  object \n",
      " 49  LB                        16122 non-null  object \n",
      " 50  LCB                       16122 non-null  object \n",
      " 51  CB                        16122 non-null  object \n",
      " 52  RCB                       16122 non-null  object \n",
      " 53  RB                        16122 non-null  object \n",
      " 54  Crossing                  18159 non-null  float64\n",
      " 55  Finishing                 18159 non-null  float64\n",
      " 56  HeadingAccuracy           18159 non-null  float64\n",
      " 57  ShortPassing              18159 non-null  float64\n",
      " 58  Volleys                   18159 non-null  float64\n",
      " 59  Dribbling                 18159 non-null  float64\n",
      " 60  Curve                     18159 non-null  float64\n",
      " 61  FKAccuracy                18159 non-null  float64\n",
      " 62  LongPassing               18159 non-null  float64\n",
      " 63  BallControl               18159 non-null  float64\n",
      " 64  Acceleration              18159 non-null  float64\n",
      " 65  SprintSpeed               18159 non-null  float64\n",
      " 66  Agility                   18159 non-null  float64\n",
      " 67  Reactions                 18159 non-null  float64\n",
      " 68  Balance                   18159 non-null  float64\n",
      " 69  ShotPower                 18159 non-null  float64\n",
      " 70  Jumping                   18159 non-null  float64\n",
      " 71  Stamina                   18159 non-null  float64\n",
      " 72  Strength                  18159 non-null  float64\n",
      " 73  LongShots                 18159 non-null  float64\n",
      " 74  Aggression                18159 non-null  float64\n",
      " 75  Interceptions             18159 non-null  float64\n",
      " 76  Positioning               18159 non-null  float64\n",
      " 77  Vision                    18159 non-null  float64\n",
      " 78  Penalties                 18159 non-null  float64\n",
      " 79  Composure                 18159 non-null  float64\n",
      " 80  Marking                   18159 non-null  float64\n",
      " 81  StandingTackle            18159 non-null  float64\n",
      " 82  SlidingTackle             18159 non-null  float64\n",
      " 83  GKDiving                  18159 non-null  float64\n",
      " 84  GKHandling                18159 non-null  float64\n",
      " 85  GKKicking                 18159 non-null  float64\n",
      " 86  GKPositioning             18159 non-null  float64\n",
      " 87  GKReflexes                18159 non-null  float64\n",
      " 88  Release Clause            16643 non-null  object \n",
      "dtypes: float64(38), int64(6), object(45)\n",
      "memory usage: 12.4+ MB\n"
     ]
    }
   ],
   "source": [
    "df.info()"
   ]
  },
  {
   "cell_type": "raw",
   "id": "f190ef95-6afb-470a-948e-7d9f2c886c08",
   "metadata": {},
   "source": [
    "1.Which country has the most number of players"
   ]
  },
  {
   "cell_type": "code",
   "execution_count": 27,
   "id": "2fbd1ec4-2464-4bf3-aee5-f7e1427f07ac",
   "metadata": {},
   "outputs": [],
   "source": [
    "player_count_country = df['Nationality'].value_counts()\n"
   ]
  },
  {
   "cell_type": "code",
   "execution_count": 28,
   "id": "6f7c2def-5a6c-4cda-bb82-f3914b1904a6",
   "metadata": {},
   "outputs": [
    {
     "data": {
      "text/plain": [
       "Nationality\n",
       "England                 1662\n",
       "Germany                 1198\n",
       "Spain                   1072\n",
       "Argentina                937\n",
       "France                   914\n",
       "                        ... \n",
       "New Caledonia              1\n",
       "Fiji                       1\n",
       "São Tomé & Príncipe        1\n",
       "United Arab Emirates       1\n",
       "Botswana                   1\n",
       "Name: count, Length: 164, dtype: int64"
      ]
     },
     "execution_count": 28,
     "metadata": {},
     "output_type": "execute_result"
    }
   ],
   "source": [
    "player_count_country"
   ]
  },
  {
   "cell_type": "code",
   "execution_count": 29,
   "id": "8eedb874-85ab-4d75-8692-e2ee0477c297",
   "metadata": {},
   "outputs": [
    {
     "name": "stdout",
     "output_type": "stream",
     "text": [
      "England has maximum number of players with 1662 players\n"
     ]
    }
   ],
   "source": [
    "max_country=df['Nationality'].value_counts().idxmax()\n",
    "max_country_count=df['Nationality'].value_counts().max()\n",
    "print(f\"{max_country} has maximum number of players with {max_country_count} players\")"
   ]
  },
  {
   "cell_type": "raw",
   "id": "71fb8a3b-00c2-41e7-8c89-2c309f4b5c7c",
   "metadata": {},
   "source": [
    "2.Plot a bar chart of 5 top countries with the most number of players."
   ]
  },
  {
   "cell_type": "code",
   "execution_count": 30,
   "id": "e8aa8d88-3168-45c2-abf6-19488d925e60",
   "metadata": {},
   "outputs": [],
   "source": [
    "top_5_countries=player_count_country.head(5)"
   ]
  },
  {
   "cell_type": "code",
   "execution_count": 31,
   "id": "75248d69-ebe8-4480-bd8c-64830021a0ef",
   "metadata": {},
   "outputs": [
    {
     "data": {
      "text/plain": [
       "Nationality\n",
       "England      1662\n",
       "Germany      1198\n",
       "Spain        1072\n",
       "Argentina     937\n",
       "France        914\n",
       "Name: count, dtype: int64"
      ]
     },
     "execution_count": 31,
     "metadata": {},
     "output_type": "execute_result"
    }
   ],
   "source": [
    "(top_5_countries)"
   ]
  },
  {
   "cell_type": "code",
   "execution_count": 32,
   "id": "081c9bad-5a26-4939-8595-3468aa096be9",
   "metadata": {},
   "outputs": [
    {
     "data": {
      "image/png": "[encoded data removed]",
      "text/plain": [
       "<Figure size 600x400 with 1 Axes>"
      ]
     },
     "metadata": {},
     "output_type": "display_data"
    }
   ],
   "source": [
    "plt.figure(figsize=(6, 4))\n",
    "plt.bar(top_5_countries.index, top_5_countries.values)\n",
    "plt.title('Top 5 Countries with Most FIFA Players')\n",
    "plt.xlabel('Country')\n",
    "plt.ylabel('Number of Players')\n",
    "plt.show()"
   ]
  },
  {
   "cell_type": "raw",
   "id": "c541839a-0f09-4a8f-9c74-75074d9bbd86",
   "metadata": {},
   "source": [
    "3.Which player has the highest salary?"
   ]
  },
  {
   "cell_type": "code",
   "execution_count": 40,
   "id": "9d5dc965-a572-4545-885d-0c5e9288cfaa",
   "metadata": {},
   "outputs": [
    {
     "name": "stdout",
     "output_type": "stream",
     "text": [
      "0    565000.0\n",
      "1    405000.0\n",
      "2    290000.0\n",
      "3    260000.0\n",
      "4    355000.0\n",
      "Name: Wage, dtype: float64\n"
     ]
    }
   ],
   "source": [
    "df['Wage'] = df['Wage'].replace({'€': '', 'K': '000'}, regex=True).astype(float)\n",
    "print(df['Wage'].head())\n",
    "df_sorted_by_salary = df.sort_values('Wage', ascending=False)\n",
    "highest_salary_player = df_sorted_by_salary.iloc[0]\n"
   ]
  },
  {
   "cell_type": "code",
   "execution_count": 41,
   "id": "bb7e4146-085b-4c1f-aa49-06d2fef641f2",
   "metadata": {},
   "outputs": [
    {
     "data": {
      "text/html": [
       "<div>\n",
       "<style scoped>\n",
       "    .dataframe tbody tr th:only-of-type {\n",
       "        vertical-align: middle;\n",
       "    }\n",
       "\n",
       "    .dataframe tbody tr th {\n",
       "        vertical-align: top;\n",
       "    }\n",
       "\n",
       "    .dataframe thead th {\n",
       "        text-align: right;\n",
       "    }\n",
       "</style>\n",
       "<table border=\"1\" class=\"dataframe\">\n",
       "  <thead>\n",
       "    <tr style=\"text-align: right;\">\n",
       "      <th></th>\n",
       "      <th>Unnamed: 0</th>\n",
       "      <th>ID</th>\n",
       "      <th>Name</th>\n",
       "      <th>Age</th>\n",
       "      <th>Photo</th>\n",
       "      <th>Nationality</th>\n",
       "      <th>Flag</th>\n",
       "      <th>Overall</th>\n",
       "      <th>Potential</th>\n",
       "      <th>Club</th>\n",
       "      <th>...</th>\n",
       "      <th>Composure</th>\n",
       "      <th>Marking</th>\n",
       "      <th>StandingTackle</th>\n",
       "      <th>SlidingTackle</th>\n",
       "      <th>GKDiving</th>\n",
       "      <th>GKHandling</th>\n",
       "      <th>GKKicking</th>\n",
       "      <th>GKPositioning</th>\n",
       "      <th>GKReflexes</th>\n",
       "      <th>Release Clause</th>\n",
       "    </tr>\n",
       "  </thead>\n",
       "  <tbody>\n",
       "    <tr>\n",
       "      <th>0</th>\n",
       "      <td>0</td>\n",
       "      <td>158023</td>\n",
       "      <td>L. Messi</td>\n",
       "      <td>31</td>\n",
       "      <td>https://cdn.sofifa.org/players/4/19/158023.png</td>\n",
       "      <td>Argentina</td>\n",
       "      <td>https://cdn.sofifa.org/flags/52.png</td>\n",
       "      <td>94</td>\n",
       "      <td>94</td>\n",
       "      <td>FC Barcelona</td>\n",
       "      <td>...</td>\n",
       "      <td>96.0</td>\n",
       "      <td>33.0</td>\n",
       "      <td>28.0</td>\n",
       "      <td>26.0</td>\n",
       "      <td>6.0</td>\n",
       "      <td>11.0</td>\n",
       "      <td>15.0</td>\n",
       "      <td>14.0</td>\n",
       "      <td>8.0</td>\n",
       "      <td>€226.5M</td>\n",
       "    </tr>\n",
       "    <tr>\n",
       "      <th>7</th>\n",
       "      <td>7</td>\n",
       "      <td>176580</td>\n",
       "      <td>L. Suárez</td>\n",
       "      <td>31</td>\n",
       "      <td>https://cdn.sofifa.org/players/4/19/176580.png</td>\n",
       "      <td>Uruguay</td>\n",
       "      <td>https://cdn.sofifa.org/flags/60.png</td>\n",
       "      <td>91</td>\n",
       "      <td>91</td>\n",
       "      <td>FC Barcelona</td>\n",
       "      <td>...</td>\n",
       "      <td>85.0</td>\n",
       "      <td>62.0</td>\n",
       "      <td>45.0</td>\n",
       "      <td>38.0</td>\n",
       "      <td>27.0</td>\n",
       "      <td>25.0</td>\n",
       "      <td>31.0</td>\n",
       "      <td>33.0</td>\n",
       "      <td>37.0</td>\n",
       "      <td>€164M</td>\n",
       "    </tr>\n",
       "    <tr>\n",
       "      <th>6</th>\n",
       "      <td>6</td>\n",
       "      <td>177003</td>\n",
       "      <td>L. Modrić</td>\n",
       "      <td>32</td>\n",
       "      <td>https://cdn.sofifa.org/players/4/19/177003.png</td>\n",
       "      <td>Croatia</td>\n",
       "      <td>https://cdn.sofifa.org/flags/10.png</td>\n",
       "      <td>91</td>\n",
       "      <td>91</td>\n",
       "      <td>Real Madrid</td>\n",
       "      <td>...</td>\n",
       "      <td>84.0</td>\n",
       "      <td>60.0</td>\n",
       "      <td>76.0</td>\n",
       "      <td>73.0</td>\n",
       "      <td>13.0</td>\n",
       "      <td>9.0</td>\n",
       "      <td>7.0</td>\n",
       "      <td>14.0</td>\n",
       "      <td>9.0</td>\n",
       "      <td>€137.4M</td>\n",
       "    </tr>\n",
       "    <tr>\n",
       "      <th>1</th>\n",
       "      <td>1</td>\n",
       "      <td>20801</td>\n",
       "      <td>Cristiano Ronaldo</td>\n",
       "      <td>33</td>\n",
       "      <td>https://cdn.sofifa.org/players/4/19/20801.png</td>\n",
       "      <td>Portugal</td>\n",
       "      <td>https://cdn.sofifa.org/flags/38.png</td>\n",
       "      <td>94</td>\n",
       "      <td>94</td>\n",
       "      <td>Juventus</td>\n",
       "      <td>...</td>\n",
       "      <td>95.0</td>\n",
       "      <td>28.0</td>\n",
       "      <td>31.0</td>\n",
       "      <td>23.0</td>\n",
       "      <td>7.0</td>\n",
       "      <td>11.0</td>\n",
       "      <td>15.0</td>\n",
       "      <td>14.0</td>\n",
       "      <td>11.0</td>\n",
       "      <td>€127.1M</td>\n",
       "    </tr>\n",
       "    <tr>\n",
       "      <th>8</th>\n",
       "      <td>8</td>\n",
       "      <td>155862</td>\n",
       "      <td>Sergio Ramos</td>\n",
       "      <td>32</td>\n",
       "      <td>https://cdn.sofifa.org/players/4/19/155862.png</td>\n",
       "      <td>Spain</td>\n",
       "      <td>https://cdn.sofifa.org/flags/45.png</td>\n",
       "      <td>91</td>\n",
       "      <td>91</td>\n",
       "      <td>Real Madrid</td>\n",
       "      <td>...</td>\n",
       "      <td>82.0</td>\n",
       "      <td>87.0</td>\n",
       "      <td>92.0</td>\n",
       "      <td>91.0</td>\n",
       "      <td>11.0</td>\n",
       "      <td>8.0</td>\n",
       "      <td>9.0</td>\n",
       "      <td>7.0</td>\n",
       "      <td>11.0</td>\n",
       "      <td>€104.6M</td>\n",
       "    </tr>\n",
       "    <tr>\n",
       "      <th>...</th>\n",
       "      <td>...</td>\n",
       "      <td>...</td>\n",
       "      <td>...</td>\n",
       "      <td>...</td>\n",
       "      <td>...</td>\n",
       "      <td>...</td>\n",
       "      <td>...</td>\n",
       "      <td>...</td>\n",
       "      <td>...</td>\n",
       "      <td>...</td>\n",
       "      <td>...</td>\n",
       "      <td>...</td>\n",
       "      <td>...</td>\n",
       "      <td>...</td>\n",
       "      <td>...</td>\n",
       "      <td>...</td>\n",
       "      <td>...</td>\n",
       "      <td>...</td>\n",
       "      <td>...</td>\n",
       "      <td>...</td>\n",
       "      <td>...</td>\n",
       "    </tr>\n",
       "    <tr>\n",
       "      <th>5614</th>\n",
       "      <td>5614</td>\n",
       "      <td>175608</td>\n",
       "      <td>A. Fathi</td>\n",
       "      <td>33</td>\n",
       "      <td>https://cdn.sofifa.org/players/4/19/175608.png</td>\n",
       "      <td>Egypt</td>\n",
       "      <td>https://cdn.sofifa.org/flags/111.png</td>\n",
       "      <td>70</td>\n",
       "      <td>70</td>\n",
       "      <td>NaN</td>\n",
       "      <td>...</td>\n",
       "      <td>65.0</td>\n",
       "      <td>75.0</td>\n",
       "      <td>71.0</td>\n",
       "      <td>68.0</td>\n",
       "      <td>15.0</td>\n",
       "      <td>6.0</td>\n",
       "      <td>9.0</td>\n",
       "      <td>15.0</td>\n",
       "      <td>16.0</td>\n",
       "      <td>NaN</td>\n",
       "    </tr>\n",
       "    <tr>\n",
       "      <th>14786</th>\n",
       "      <td>14786</td>\n",
       "      <td>233524</td>\n",
       "      <td>U. Singh</td>\n",
       "      <td>22</td>\n",
       "      <td>https://cdn.sofifa.org/players/4/19/233524.png</td>\n",
       "      <td>India</td>\n",
       "      <td>https://cdn.sofifa.org/flags/159.png</td>\n",
       "      <td>60</td>\n",
       "      <td>67</td>\n",
       "      <td>NaN</td>\n",
       "      <td>...</td>\n",
       "      <td>56.0</td>\n",
       "      <td>24.0</td>\n",
       "      <td>32.0</td>\n",
       "      <td>31.0</td>\n",
       "      <td>11.0</td>\n",
       "      <td>8.0</td>\n",
       "      <td>5.0</td>\n",
       "      <td>12.0</td>\n",
       "      <td>7.0</td>\n",
       "      <td>NaN</td>\n",
       "    </tr>\n",
       "    <tr>\n",
       "      <th>3170</th>\n",
       "      <td>3170</td>\n",
       "      <td>221422</td>\n",
       "      <td>S. Ingason</td>\n",
       "      <td>24</td>\n",
       "      <td>https://cdn.sofifa.org/players/4/19/221422.png</td>\n",
       "      <td>Iceland</td>\n",
       "      <td>https://cdn.sofifa.org/flags/24.png</td>\n",
       "      <td>73</td>\n",
       "      <td>78</td>\n",
       "      <td>NaN</td>\n",
       "      <td>...</td>\n",
       "      <td>70.0</td>\n",
       "      <td>76.0</td>\n",
       "      <td>75.0</td>\n",
       "      <td>76.0</td>\n",
       "      <td>13.0</td>\n",
       "      <td>9.0</td>\n",
       "      <td>10.0</td>\n",
       "      <td>9.0</td>\n",
       "      <td>9.0</td>\n",
       "      <td>NaN</td>\n",
       "    </tr>\n",
       "    <tr>\n",
       "      <th>5595</th>\n",
       "      <td>5595</td>\n",
       "      <td>201714</td>\n",
       "      <td>D. Böde</td>\n",
       "      <td>31</td>\n",
       "      <td>https://cdn.sofifa.org/players/4/19/201714.png</td>\n",
       "      <td>Hungary</td>\n",
       "      <td>https://cdn.sofifa.org/flags/23.png</td>\n",
       "      <td>70</td>\n",
       "      <td>70</td>\n",
       "      <td>NaN</td>\n",
       "      <td>...</td>\n",
       "      <td>80.0</td>\n",
       "      <td>21.0</td>\n",
       "      <td>29.0</td>\n",
       "      <td>36.0</td>\n",
       "      <td>9.0</td>\n",
       "      <td>16.0</td>\n",
       "      <td>6.0</td>\n",
       "      <td>9.0</td>\n",
       "      <td>16.0</td>\n",
       "      <td>NaN</td>\n",
       "    </tr>\n",
       "    <tr>\n",
       "      <th>12684</th>\n",
       "      <td>12684</td>\n",
       "      <td>208543</td>\n",
       "      <td>C. Howieson</td>\n",
       "      <td>23</td>\n",
       "      <td>https://cdn.sofifa.org/players/4/19/208543.png</td>\n",
       "      <td>New Zealand</td>\n",
       "      <td>https://cdn.sofifa.org/flags/198.png</td>\n",
       "      <td>63</td>\n",
       "      <td>68</td>\n",
       "      <td>NaN</td>\n",
       "      <td>...</td>\n",
       "      <td>70.0</td>\n",
       "      <td>48.0</td>\n",
       "      <td>52.0</td>\n",
       "      <td>47.0</td>\n",
       "      <td>12.0</td>\n",
       "      <td>11.0</td>\n",
       "      <td>10.0</td>\n",
       "      <td>14.0</td>\n",
       "      <td>10.0</td>\n",
       "      <td>NaN</td>\n",
       "    </tr>\n",
       "  </tbody>\n",
       "</table>\n",
       "<p>18207 rows × 89 columns</p>\n",
       "</div>"
      ],
      "text/plain": [
       "       Unnamed: 0      ID               Name  Age  \\\n",
       "0               0  158023           L. Messi   31   \n",
       "7               7  176580          L. Suárez   31   \n",
       "6               6  177003          L. Modrić   32   \n",
       "1               1   20801  Cristiano Ronaldo   33   \n",
       "8               8  155862       Sergio Ramos   32   \n",
       "...           ...     ...                ...  ...   \n",
       "5614         5614  175608           A. Fathi   33   \n",
       "14786       14786  233524           U. Singh   22   \n",
       "3170         3170  221422         S. Ingason   24   \n",
       "5595         5595  201714            D. Böde   31   \n",
       "12684       12684  208543        C. Howieson   23   \n",
       "\n",
       "                                                Photo  Nationality  \\\n",
       "0      https://cdn.sofifa.org/players/4/19/158023.png    Argentina   \n",
       "7      https://cdn.sofifa.org/players/4/19/176580.png      Uruguay   \n",
       "6      https://cdn.sofifa.org/players/4/19/177003.png      Croatia   \n",
       "1       https://cdn.sofifa.org/players/4/19/20801.png     Portugal   \n",
       "8      https://cdn.sofifa.org/players/4/19/155862.png        Spain   \n",
       "...                                               ...          ...   \n",
       "5614   https://cdn.sofifa.org/players/4/19/175608.png        Egypt   \n",
       "14786  https://cdn.sofifa.org/players/4/19/233524.png        India   \n",
       "3170   https://cdn.sofifa.org/players/4/19/221422.png      Iceland   \n",
       "5595   https://cdn.sofifa.org/players/4/19/201714.png      Hungary   \n",
       "12684  https://cdn.sofifa.org/players/4/19/208543.png  New Zealand   \n",
       "\n",
       "                                       Flag  Overall  Potential          Club  \\\n",
       "0       https://cdn.sofifa.org/flags/52.png       94         94  FC Barcelona   \n",
       "7       https://cdn.sofifa.org/flags/60.png       91         91  FC Barcelona   \n",
       "6       https://cdn.sofifa.org/flags/10.png       91         91   Real Madrid   \n",
       "1       https://cdn.sofifa.org/flags/38.png       94         94      Juventus   \n",
       "8       https://cdn.sofifa.org/flags/45.png       91         91   Real Madrid   \n",
       "...                                     ...      ...        ...           ...   \n",
       "5614   https://cdn.sofifa.org/flags/111.png       70         70           NaN   \n",
       "14786  https://cdn.sofifa.org/flags/159.png       60         67           NaN   \n",
       "3170    https://cdn.sofifa.org/flags/24.png       73         78           NaN   \n",
       "5595    https://cdn.sofifa.org/flags/23.png       70         70           NaN   \n",
       "12684  https://cdn.sofifa.org/flags/198.png       63         68           NaN   \n",
       "\n",
       "       ... Composure Marking  StandingTackle  SlidingTackle GKDiving  \\\n",
       "0      ...      96.0    33.0            28.0           26.0      6.0   \n",
       "7      ...      85.0    62.0            45.0           38.0     27.0   \n",
       "6      ...      84.0    60.0            76.0           73.0     13.0   \n",
       "1      ...      95.0    28.0            31.0           23.0      7.0   \n",
       "8      ...      82.0    87.0            92.0           91.0     11.0   \n",
       "...    ...       ...     ...             ...            ...      ...   \n",
       "5614   ...      65.0    75.0            71.0           68.0     15.0   \n",
       "14786  ...      56.0    24.0            32.0           31.0     11.0   \n",
       "3170   ...      70.0    76.0            75.0           76.0     13.0   \n",
       "5595   ...      80.0    21.0            29.0           36.0      9.0   \n",
       "12684  ...      70.0    48.0            52.0           47.0     12.0   \n",
       "\n",
       "       GKHandling  GKKicking  GKPositioning GKReflexes Release Clause  \n",
       "0            11.0       15.0           14.0        8.0        €226.5M  \n",
       "7            25.0       31.0           33.0       37.0          €164M  \n",
       "6             9.0        7.0           14.0        9.0        €137.4M  \n",
       "1            11.0       15.0           14.0       11.0        €127.1M  \n",
       "8             8.0        9.0            7.0       11.0        €104.6M  \n",
       "...           ...        ...            ...        ...            ...  \n",
       "5614          6.0        9.0           15.0       16.0            NaN  \n",
       "14786         8.0        5.0           12.0        7.0            NaN  \n",
       "3170          9.0       10.0            9.0        9.0            NaN  \n",
       "5595         16.0        6.0            9.0       16.0            NaN  \n",
       "12684        11.0       10.0           14.0       10.0            NaN  \n",
       "\n",
       "[18207 rows x 89 columns]"
      ]
     },
     "execution_count": 41,
     "metadata": {},
     "output_type": "execute_result"
    }
   ],
   "source": [
    "df_sorted_by_salary"
   ]
  },
  {
   "cell_type": "code",
   "execution_count": 44,
   "id": "045d4b2f-4391-4259-85cc-196fe2572227",
   "metadata": {},
   "outputs": [
    {
     "data": {
      "text/plain": [
       "Unnamed: 0                                                               0\n",
       "ID                                                                  158023\n",
       "Name                                                              L. Messi\n",
       "Age                                                                     31\n",
       "Photo                       https://cdn.sofifa.org/players/4/19/158023.png\n",
       "Nationality                                                      Argentina\n",
       "Flag                                   https://cdn.sofifa.org/flags/52.png\n",
       "Overall                                                                 94\n",
       "Potential                                                               94\n",
       "Club                                                          FC Barcelona\n",
       "Club Logo                     https://cdn.sofifa.org/teams/2/light/241.png\n",
       "Value                                                              €110.5M\n",
       "Wage                                                              565000.0\n",
       "Special                                                               2202\n",
       "Preferred Foot                                                        Left\n",
       "International Reputation                                               5.0\n",
       "Weak Foot                                                              4.0\n",
       "Skill Moves                                                            4.0\n",
       "Work Rate                                                   Medium/ Medium\n",
       "Body Type                                                            Messi\n",
       "Name: 0, dtype: object"
      ]
     },
     "execution_count": 44,
     "metadata": {},
     "output_type": "execute_result"
    }
   ],
   "source": [
    "(highest_salary_player).head(20)"
   ]
  },
  {
   "cell_type": "code",
   "execution_count": 43,
   "id": "c401acdc-dc77-4678-803e-56b088b426bd",
   "metadata": {},
   "outputs": [
    {
     "name": "stdout",
     "output_type": "stream",
     "text": [
      "L. Messi has the highest salary of 565000.0.\n"
     ]
    }
   ],
   "source": [
    "print(f\"{highest_salary_player['Name']} has the highest salary of {highest_salary_player['Wage']}.\")"
   ]
  },
  {
   "cell_type": "raw",
   "id": "263d43b8-10ca-4ad8-b8c0-38385429fb16",
   "metadata": {},
   "source": [
    "4.Plot a histogram to get the salary range of the players"
   ]
  },
  {
   "cell_type": "code",
   "execution_count": 46,
   "id": "5aac436d-223a-46cc-819a-395da5343285",
   "metadata": {},
   "outputs": [
    {
     "data": {
      "text/plain": [
       "0    565000.0\n",
       "1    405000.0\n",
       "2    290000.0\n",
       "3    260000.0\n",
       "4    355000.0\n",
       "Name: Wage, dtype: float64"
      ]
     },
     "execution_count": 46,
     "metadata": {},
     "output_type": "execute_result"
    }
   ],
   "source": [
    "df['Wage'].head(5)"
   ]
  },
  {
   "cell_type": "code",
   "execution_count": 64,
   "id": "dbb22a29-3906-4e52-a8c9-2312d1408933",
   "metadata": {},
   "outputs": [
    {
     "data": {
      "text/plain": [
       "count     18207.000000\n",
       "mean       9731.312133\n",
       "std       21999.290406\n",
       "min           0.000000\n",
       "25%        1000.000000\n",
       "50%        3000.000000\n",
       "75%        9000.000000\n",
       "max      565000.000000\n",
       "Name: Wage, dtype: float64"
      ]
     },
     "execution_count": 64,
     "metadata": {},
     "output_type": "execute_result"
    }
   ],
   "source": [
    "df['Wage'].describe()"
   ]
  },
  {
   "cell_type": "code",
   "execution_count": 51,
   "id": "16686945-e7ad-4894-b0ad-e6b8780a00d8",
   "metadata": {},
   "outputs": [
    {
     "data": {
      "image/png": "[encoded data removed]",
      "text/plain": [
       "<Figure size 1000x600 with 1 Axes>"
      ]
     },
     "metadata": {},
     "output_type": "display_data"
    }
   ],
   "source": [
    "\n",
    "# Step 4: Plot the histogram using Seaborn\n",
    "plt.figure(figsize=(10, 6))\n",
    "sns.histplot(df['Wage'], bins=50)\n",
    "# Step 5: Add labels and title\n",
    "plt.title('Distribution of Player Salaries')\n",
    "plt.xlabel('Salary (in Euros)')\n",
    "plt.ylabel('Number of Players', fontsize=12)\n",
    "\n",
    "# Display the plot\n",
    "plt.show()"
   ]
  },
  {
   "cell_type": "raw",
   "id": "16479254-7eb0-4f51-9f58-83bb566dbed4",
   "metadata": {},
   "source": [
    "5. Who is the tallest player in the fifa? "
   ]
  },
  {
   "cell_type": "code",
   "execution_count": 52,
   "id": "ac37134d-65c2-4cbc-b857-dd62bf1bb39b",
   "metadata": {},
   "outputs": [
    {
     "data": {
      "text/plain": [
       "0     5'7\n",
       "1     6'2\n",
       "2     5'9\n",
       "3     6'4\n",
       "4    5'11\n",
       "Name: Height, dtype: object"
      ]
     },
     "execution_count": 52,
     "metadata": {},
     "output_type": "execute_result"
    }
   ],
   "source": [
    "df['Height'].head(5)"
   ]
  },
  {
   "cell_type": "code",
   "execution_count": 58,
   "id": "4a736cce-4b87-4eb0-95d5-d931e74f6af7",
   "metadata": {},
   "outputs": [],
   "source": [
    "df_sorted_by_height = df.sort_values('Height', ascending=False)\n"
   ]
  },
  {
   "cell_type": "code",
   "execution_count": 60,
   "id": "122fe86a-d515-4102-92fb-f15fb3064115",
   "metadata": {},
   "outputs": [
    {
     "data": {
      "text/plain": [
       "11614    6'9\n",
       "17927    6'9\n",
       "11903    6'8\n",
       "17694    6'8\n",
       "4189     6'8\n",
       "Name: Height, dtype: object"
      ]
     },
     "execution_count": 60,
     "metadata": {},
     "output_type": "execute_result"
    }
   ],
   "source": [
    "df_sorted_by_height['Height'].head(5)"
   ]
  },
  {
   "cell_type": "code",
   "execution_count": 61,
   "id": "dc625cd3-d9e5-48e7-995c-32536d8fda1e",
   "metadata": {},
   "outputs": [],
   "source": [
    "tallest_player = df_sorted_by_height.iloc[0]"
   ]
  },
  {
   "cell_type": "code",
   "execution_count": 62,
   "id": "67ca8aa0-838f-4806-8324-5122fcd73318",
   "metadata": {},
   "outputs": [
    {
     "data": {
      "text/plain": [
       "Unnamed: 0                                                           11614\n",
       "ID                                                                  199321\n",
       "Name                                                               T. Holý\n",
       "Age                                                                     26\n",
       "Photo                       https://cdn.sofifa.org/players/4/19/199321.png\n",
       "Nationality                                                 Czech Republic\n",
       "Flag                                   https://cdn.sofifa.org/flags/12.png\n",
       "Overall                                                                 64\n",
       "Potential                                                               68\n",
       "Club                                                            Gillingham\n",
       "Club Logo                    https://cdn.sofifa.org/teams/2/light/1802.png\n",
       "Value                                                                €400K\n",
       "Wage                                                                2000.0\n",
       "Special                                                               1028\n",
       "Preferred Foot                                                       Right\n",
       "International Reputation                                               1.0\n",
       "Weak Foot                                                              3.0\n",
       "Skill Moves                                                            1.0\n",
       "Work Rate                                                   Medium/ Medium\n",
       "Body Type                                                           Normal\n",
       "Name: 11614, dtype: object"
      ]
     },
     "execution_count": 62,
     "metadata": {},
     "output_type": "execute_result"
    }
   ],
   "source": [
    "tallest_player.head(20)"
   ]
  },
  {
   "cell_type": "code",
   "execution_count": 63,
   "id": "0f9a2975-1db4-485d-ab9c-221a477ade34",
   "metadata": {},
   "outputs": [
    {
     "name": "stdout",
     "output_type": "stream",
     "text": [
      "Tallest player is T. Holý with 6'9\n"
     ]
    }
   ],
   "source": [
    "print(f\"Tallest player is {tallest_player['Name']} with {tallest_player['Height']}\")"
   ]
  },
  {
   "cell_type": "raw",
   "id": "075b9d3f-ad20-436a-ae0f-2ce5414eb20f",
   "metadata": {},
   "source": [
    "6.Which club has the most number of players? "
   ]
  },
  {
   "cell_type": "code",
   "execution_count": 67,
   "id": "3cd29235-5470-43c3-afee-f01391c4d024",
   "metadata": {},
   "outputs": [],
   "source": [
    "club_count=df['Club'].value_counts()"
   ]
  },
  {
   "cell_type": "code",
   "execution_count": 70,
   "id": "c87b6ab3-ece2-44c6-8e0d-1fce000e8201",
   "metadata": {},
   "outputs": [
    {
     "data": {
      "text/plain": [
       "651"
      ]
     },
     "execution_count": 70,
     "metadata": {},
     "output_type": "execute_result"
    }
   ],
   "source": [
    "len(club_count)\n"
   ]
  },
  {
   "cell_type": "code",
   "execution_count": 71,
   "id": "6f6df974-2edd-49a2-84a3-aa4de0b6186d",
   "metadata": {},
   "outputs": [
    {
     "data": {
      "text/plain": [
       "Club\n",
       "FC Barcelona                 33\n",
       "Valencia CF                  33\n",
       "Fortuna Düsseldorf           33\n",
       "Cardiff City                 33\n",
       "Rayo Vallecano               33\n",
       "                             ..\n",
       "América FC (Minas Gerais)    20\n",
       "Fluminense                   20\n",
       "Sligo Rovers                 19\n",
       "Limerick FC                  19\n",
       "Derry City                   18\n",
       "Name: count, Length: 651, dtype: int64"
      ]
     },
     "execution_count": 71,
     "metadata": {},
     "output_type": "execute_result"
    }
   ],
   "source": [
    "club_count"
   ]
  },
  {
   "cell_type": "code",
   "execution_count": 27,
   "id": "7790a843-e540-4d65-9845-a71f07f8c699",
   "metadata": {},
   "outputs": [],
   "source": [
    "max_club_count=df['Club'].value_counts().max()"
   ]
  },
  {
   "cell_type": "code",
   "execution_count": 28,
   "id": "da9357ee-778d-4233-ac45-56ea1be672be",
   "metadata": {},
   "outputs": [
    {
     "data": {
      "text/plain": [
       "33"
      ]
     },
     "execution_count": 28,
     "metadata": {},
     "output_type": "execute_result"
    }
   ],
   "source": [
    "max_club_count"
   ]
  },
  {
   "cell_type": "code",
   "execution_count": 29,
   "id": "c56c3904-c53e-41fd-8038-f09ed11e3e31",
   "metadata": {},
   "outputs": [
    {
     "name": "stdout",
     "output_type": "stream",
     "text": [
      "Clubs with the most players:\n",
      "Club\n",
      "FC Barcelona               33\n",
      "Valencia CF                33\n",
      "Fortuna Düsseldorf         33\n",
      "Cardiff City               33\n",
      "Rayo Vallecano             33\n",
      "CD Leganés                 33\n",
      "Frosinone                  33\n",
      "Newcastle United           33\n",
      "Southampton                33\n",
      "Burnley                    33\n",
      "Eintracht Frankfurt        33\n",
      "Wolverhampton Wanderers    33\n",
      "TSG 1899 Hoffenheim        33\n",
      "Everton                    33\n",
      "AS Monaco                  33\n",
      "RC Celta                   33\n",
      "Empoli                     33\n",
      "Manchester City            33\n",
      "Manchester United          33\n",
      "Borussia Dortmund          33\n",
      "Real Madrid                33\n",
      "Atlético Madrid            33\n",
      "Tottenham Hotspur          33\n",
      "Chelsea                    33\n",
      "Liverpool                  33\n",
      "Arsenal                    33\n",
      "Name: count, dtype: int64\n"
     ]
    }
   ],
   "source": [
    "clubs_with_max_players = club_count[club_count == max_club_count]\n",
    "print(\"Clubs with the most players:\")\n",
    "print(clubs_with_max_players)"
   ]
  },
  {
   "cell_type": "code",
   "execution_count": 30,
   "id": "9148c02f-9bbc-4cb4-9153-35b4cdbad39a",
   "metadata": {},
   "outputs": [
    {
     "data": {
      "text/plain": [
       "26"
      ]
     },
     "execution_count": 30,
     "metadata": {},
     "output_type": "execute_result"
    }
   ],
   "source": [
    "clubs_with_max_players.count()"
   ]
  },
  {
   "cell_type": "raw",
   "id": "f0138145-827c-47ee-a2ef-1cea2bb71163",
   "metadata": {},
   "source": [
    "7.Which foot is most preferred by the players?Draw a bar chart for preferred foot (score :1)"
   ]
  },
  {
   "cell_type": "code",
   "execution_count": 13,
   "id": "727154ea-8b5e-4087-a696-31122c1b73ad",
   "metadata": {},
   "outputs": [],
   "source": [
    "preferred_foot_count = df['Preferred Foot'].value_counts()\n"
   ]
  },
  {
   "cell_type": "code",
   "execution_count": 14,
   "id": "9cbfe638-5e87-45b2-8711-be2f5fe5436a",
   "metadata": {},
   "outputs": [
    {
     "data": {
      "text/plain": [
       "Preferred Foot\n",
       "Right    13948\n",
       "Left      4211\n",
       "Name: count, dtype: int64"
      ]
     },
     "execution_count": 14,
     "metadata": {},
     "output_type": "execute_result"
    }
   ],
   "source": [
    "preferred_foot_count"
   ]
  },
  {
   "cell_type": "code",
   "execution_count": 15,
   "id": "661fc044-e21e-470a-9b64-106b9d890653",
   "metadata": {},
   "outputs": [
    {
     "data": {
      "image/png": "[encoded data removed]",
      "text/plain": [
       "<Figure size 400x400 with 1 Axes>"
      ]
     },
     "metadata": {},
     "output_type": "display_data"
    }
   ],
   "source": [
    "plt.figure(figsize=(4, 4))\n",
    "plt.bar(preferred_foot_count.index, preferred_foot_count.values, color=['blue', 'red'])\n",
    "\n",
    "plt.title('Preferred Foot of Players')\n",
    "plt.xlabel('Preferred Foot')\n",
    "plt.ylabel('Number of Players')\n",
    "plt.show()"
   ]
  },
  {
   "cell_type": "raw",
   "id": "a760fe56-c51e-47c3-a1a7-703b938d04fc",
   "metadata": {},
   "source": [
    "Insights\n",
    "\n",
    "*England has maximum number of players with 1662 players.  Next to that there is Geramany with 1198 players. There are few countries with just one player.\n",
    "*England, Germany, Spain, Argentina, France   are the top 5 countries in the number of players with 1662, 1198, 1072, 937 and 914\n",
    "players respectively\n",
    "*L. Messi, the Argentine superstar, commands the highest salary in the FIFA dataset, earning €565,000 per week. With a market value of €110.5 million and an overall rating of 94, he is regarded as one of the best players in the world. Known for his exceptional left foot and international reputation (5.0)\n",
    "*The wage data for FIFA players reveals a broad range, with an average salary of €9,731 and a significant standard deviation of €21,999, indicating high variability. While the majority of players earn between €1,000 (25th percentile) and €9,000 (75th percentile), top stars like L. Messi, who commands a maximum wage of €565,000, significantly skew the distribution. This illustrates the stark wage gap between average players and elite footballers.\n",
    "*T. Holý is a 26-year-old footballer from the Czech Republic, currently playing as a goalkeeper for Gillingham. With an overall rating of 64 and a potential rating of 68, he is valued at €400,000 and earns a weekly wage of €2,000. Known for his right foot, Holý has a medium work rate and a normal body type, with a special skill rating of 1,028. His international reputation is rated at 1.0, indicating he is relatively less recognized on the international stage compared to more prominent players.\n",
    "*Among 651 different clubs there are 26 clubs with maximum number of players which counts 33.\n",
    "*The dataset reveals that the majority of players are right-footed, with 13,948 players preferring their right foot compared to just 4,211 left-footed players."
   ]
  },
  {
   "cell_type": "code",
   "execution_count": null,
   "id": "2bdde031-3d64-4f39-9373-f866af8fe83e",
   "metadata": {},
   "outputs": [],
   "source": []
  }
 ],
 "metadata": {
  "kernelspec": {
   "display_name": "Python 3 (ipykernel)",
   "language": "python",
   "name": "python3"
  },
  "language_info": {
   "codemirror_mode": {
    "name": "ipython",
    "version": 3
   },
   "file_extension": ".py",
   "mimetype": "text/x-python",
   "name": "python",
   "nbconvert_exporter": "python",
   "pygments_lexer": "ipython3",
   "version": "3.9.12"
  }
 },
 "nbformat": 4,
 "nbformat_minor": 5
}
